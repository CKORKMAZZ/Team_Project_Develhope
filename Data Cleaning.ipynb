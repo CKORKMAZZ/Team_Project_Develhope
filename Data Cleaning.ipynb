{
 "cells": [
  {
   "cell_type": "code",
   "execution_count": 1,
   "id": "6f482d58",
   "metadata": {},
   "outputs": [],
   "source": [
    "import pandas as pd\n",
    "import numpy as np\n",
    "import matplotlib.pyplot as plt\n",
    "import seaborn as sns"
   ]
  },
  {
   "cell_type": "markdown",
   "id": "a6d50e9e",
   "metadata": {},
   "source": [
    "## Exploring the Data"
   ]
  },
  {
   "cell_type": "code",
   "execution_count": 2,
   "id": "b8a4b0ba",
   "metadata": {},
   "outputs": [],
   "source": [
    "#Read the data\n",
    "google = pd.read_csv(\"C:/Users/KORKMAZ/Desktop/Team project/WEEK 7/googleplaystore.csv\")"
   ]
  },
  {
   "cell_type": "code",
   "execution_count": 3,
   "id": "8ae25db3",
   "metadata": {},
   "outputs": [],
   "source": [
    "google_reviews = pd.read_csv(\"C:/Users/KORKMAZ/Desktop/Team project/WEEK 7/googleplaystore_user_reviews.csv\")"
   ]
  },
  {
   "cell_type": "code",
   "execution_count": 4,
   "id": "0279ad8f",
   "metadata": {},
   "outputs": [
    {
     "data": {
      "text/plain": [
       "(10841, 13)"
      ]
     },
     "execution_count": 4,
     "metadata": {},
     "output_type": "execute_result"
    }
   ],
   "source": [
    "#Check dimensions\n",
    "google.shape"
   ]
  },
  {
   "cell_type": "code",
   "execution_count": 5,
   "id": "3b52bb00",
   "metadata": {},
   "outputs": [
    {
     "data": {
      "text/plain": [
       "(64295, 5)"
      ]
     },
     "execution_count": 5,
     "metadata": {},
     "output_type": "execute_result"
    }
   ],
   "source": [
    "google_reviews.shape"
   ]
  },
  {
   "cell_type": "code",
   "execution_count": 6,
   "id": "c13e247e",
   "metadata": {},
   "outputs": [
    {
     "name": "stdout",
     "output_type": "stream",
     "text": [
      "<class 'pandas.core.frame.DataFrame'>\n",
      "RangeIndex: 10841 entries, 0 to 10840\n",
      "Data columns (total 13 columns):\n",
      " #   Column          Non-Null Count  Dtype  \n",
      "---  ------          --------------  -----  \n",
      " 0   App             10841 non-null  object \n",
      " 1   Category        10841 non-null  object \n",
      " 2   Rating          9367 non-null   float64\n",
      " 3   Reviews         10841 non-null  object \n",
      " 4   Size            10841 non-null  object \n",
      " 5   Installs        10841 non-null  object \n",
      " 6   Type            10840 non-null  object \n",
      " 7   Price           10841 non-null  object \n",
      " 8   Content Rating  10840 non-null  object \n",
      " 9   Genres          10841 non-null  object \n",
      " 10  Last Updated    10841 non-null  object \n",
      " 11  Current Ver     10833 non-null  object \n",
      " 12  Android Ver     10838 non-null  object \n",
      "dtypes: float64(1), object(12)\n",
      "memory usage: 1.1+ MB\n"
     ]
    }
   ],
   "source": [
    "#Gathering more information\n",
    "google.info()"
   ]
  },
  {
   "cell_type": "code",
   "execution_count": 7,
   "id": "12175092",
   "metadata": {},
   "outputs": [
    {
     "name": "stdout",
     "output_type": "stream",
     "text": [
      "<class 'pandas.core.frame.DataFrame'>\n",
      "RangeIndex: 64295 entries, 0 to 64294\n",
      "Data columns (total 5 columns):\n",
      " #   Column                  Non-Null Count  Dtype  \n",
      "---  ------                  --------------  -----  \n",
      " 0   App                     64295 non-null  object \n",
      " 1   Translated_Review       37427 non-null  object \n",
      " 2   Sentiment               37432 non-null  object \n",
      " 3   Sentiment_Polarity      37432 non-null  float64\n",
      " 4   Sentiment_Subjectivity  37432 non-null  float64\n",
      "dtypes: float64(2), object(3)\n",
      "memory usage: 2.5+ MB\n"
     ]
    }
   ],
   "source": [
    "google_reviews.info()"
   ]
  },
  {
   "cell_type": "code",
   "execution_count": 9,
   "id": "d1f34631",
   "metadata": {},
   "outputs": [
    {
     "data": {
      "text/html": [
       "<div>\n",
       "<style scoped>\n",
       "    .dataframe tbody tr th:only-of-type {\n",
       "        vertical-align: middle;\n",
       "    }\n",
       "\n",
       "    .dataframe tbody tr th {\n",
       "        vertical-align: top;\n",
       "    }\n",
       "\n",
       "    .dataframe thead th {\n",
       "        text-align: right;\n",
       "    }\n",
       "</style>\n",
       "<table border=\"1\" class=\"dataframe\">\n",
       "  <thead>\n",
       "    <tr style=\"text-align: right;\">\n",
       "      <th></th>\n",
       "      <th>App</th>\n",
       "      <th>Category</th>\n",
       "      <th>Rating</th>\n",
       "      <th>Reviews</th>\n",
       "      <th>Size</th>\n",
       "      <th>Installs</th>\n",
       "      <th>Type</th>\n",
       "      <th>Price</th>\n",
       "      <th>Content Rating</th>\n",
       "      <th>Genres</th>\n",
       "      <th>Last Updated</th>\n",
       "      <th>Current Ver</th>\n",
       "      <th>Android Ver</th>\n",
       "    </tr>\n",
       "  </thead>\n",
       "  <tbody>\n",
       "    <tr>\n",
       "      <th>0</th>\n",
       "      <td>Photo Editor &amp; Candy Camera &amp; Grid &amp; ScrapBook</td>\n",
       "      <td>ART_AND_DESIGN</td>\n",
       "      <td>4.1</td>\n",
       "      <td>159</td>\n",
       "      <td>19M</td>\n",
       "      <td>10,000+</td>\n",
       "      <td>Free</td>\n",
       "      <td>0</td>\n",
       "      <td>Everyone</td>\n",
       "      <td>Art &amp; Design</td>\n",
       "      <td>January 7, 2018</td>\n",
       "      <td>1.0.0</td>\n",
       "      <td>4.0.3 and up</td>\n",
       "    </tr>\n",
       "    <tr>\n",
       "      <th>1</th>\n",
       "      <td>Coloring book moana</td>\n",
       "      <td>ART_AND_DESIGN</td>\n",
       "      <td>3.9</td>\n",
       "      <td>967</td>\n",
       "      <td>14M</td>\n",
       "      <td>500,000+</td>\n",
       "      <td>Free</td>\n",
       "      <td>0</td>\n",
       "      <td>Everyone</td>\n",
       "      <td>Art &amp; Design;Pretend Play</td>\n",
       "      <td>January 15, 2018</td>\n",
       "      <td>2.0.0</td>\n",
       "      <td>4.0.3 and up</td>\n",
       "    </tr>\n",
       "    <tr>\n",
       "      <th>2</th>\n",
       "      <td>U Launcher Lite – FREE Live Cool Themes, Hide ...</td>\n",
       "      <td>ART_AND_DESIGN</td>\n",
       "      <td>4.7</td>\n",
       "      <td>87510</td>\n",
       "      <td>8.7M</td>\n",
       "      <td>5,000,000+</td>\n",
       "      <td>Free</td>\n",
       "      <td>0</td>\n",
       "      <td>Everyone</td>\n",
       "      <td>Art &amp; Design</td>\n",
       "      <td>August 1, 2018</td>\n",
       "      <td>1.2.4</td>\n",
       "      <td>4.0.3 and up</td>\n",
       "    </tr>\n",
       "    <tr>\n",
       "      <th>3</th>\n",
       "      <td>Sketch - Draw &amp; Paint</td>\n",
       "      <td>ART_AND_DESIGN</td>\n",
       "      <td>4.5</td>\n",
       "      <td>215644</td>\n",
       "      <td>25M</td>\n",
       "      <td>50,000,000+</td>\n",
       "      <td>Free</td>\n",
       "      <td>0</td>\n",
       "      <td>Teen</td>\n",
       "      <td>Art &amp; Design</td>\n",
       "      <td>June 8, 2018</td>\n",
       "      <td>Varies with device</td>\n",
       "      <td>4.2 and up</td>\n",
       "    </tr>\n",
       "    <tr>\n",
       "      <th>4</th>\n",
       "      <td>Pixel Draw - Number Art Coloring Book</td>\n",
       "      <td>ART_AND_DESIGN</td>\n",
       "      <td>4.3</td>\n",
       "      <td>967</td>\n",
       "      <td>2.8M</td>\n",
       "      <td>100,000+</td>\n",
       "      <td>Free</td>\n",
       "      <td>0</td>\n",
       "      <td>Everyone</td>\n",
       "      <td>Art &amp; Design;Creativity</td>\n",
       "      <td>June 20, 2018</td>\n",
       "      <td>1.1</td>\n",
       "      <td>4.4 and up</td>\n",
       "    </tr>\n",
       "  </tbody>\n",
       "</table>\n",
       "</div>"
      ],
      "text/plain": [
       "                                                 App        Category  Rating  \\\n",
       "0     Photo Editor & Candy Camera & Grid & ScrapBook  ART_AND_DESIGN     4.1   \n",
       "1                                Coloring book moana  ART_AND_DESIGN     3.9   \n",
       "2  U Launcher Lite – FREE Live Cool Themes, Hide ...  ART_AND_DESIGN     4.7   \n",
       "3                              Sketch - Draw & Paint  ART_AND_DESIGN     4.5   \n",
       "4              Pixel Draw - Number Art Coloring Book  ART_AND_DESIGN     4.3   \n",
       "\n",
       "  Reviews  Size     Installs  Type Price Content Rating  \\\n",
       "0     159   19M      10,000+  Free     0       Everyone   \n",
       "1     967   14M     500,000+  Free     0       Everyone   \n",
       "2   87510  8.7M   5,000,000+  Free     0       Everyone   \n",
       "3  215644   25M  50,000,000+  Free     0           Teen   \n",
       "4     967  2.8M     100,000+  Free     0       Everyone   \n",
       "\n",
       "                      Genres      Last Updated         Current Ver  \\\n",
       "0               Art & Design   January 7, 2018               1.0.0   \n",
       "1  Art & Design;Pretend Play  January 15, 2018               2.0.0   \n",
       "2               Art & Design    August 1, 2018               1.2.4   \n",
       "3               Art & Design      June 8, 2018  Varies with device   \n",
       "4    Art & Design;Creativity     June 20, 2018                 1.1   \n",
       "\n",
       "    Android Ver  \n",
       "0  4.0.3 and up  \n",
       "1  4.0.3 and up  \n",
       "2  4.0.3 and up  \n",
       "3    4.2 and up  \n",
       "4    4.4 and up  "
      ]
     },
     "execution_count": 9,
     "metadata": {},
     "output_type": "execute_result"
    }
   ],
   "source": [
    "#Exploring a few rows\n",
    "google.head()"
   ]
  },
  {
   "cell_type": "code",
   "execution_count": 10,
   "id": "18d62520",
   "metadata": {},
   "outputs": [
    {
     "data": {
      "text/html": [
       "<div>\n",
       "<style scoped>\n",
       "    .dataframe tbody tr th:only-of-type {\n",
       "        vertical-align: middle;\n",
       "    }\n",
       "\n",
       "    .dataframe tbody tr th {\n",
       "        vertical-align: top;\n",
       "    }\n",
       "\n",
       "    .dataframe thead th {\n",
       "        text-align: right;\n",
       "    }\n",
       "</style>\n",
       "<table border=\"1\" class=\"dataframe\">\n",
       "  <thead>\n",
       "    <tr style=\"text-align: right;\">\n",
       "      <th></th>\n",
       "      <th>App</th>\n",
       "      <th>Translated_Review</th>\n",
       "      <th>Sentiment</th>\n",
       "      <th>Sentiment_Polarity</th>\n",
       "      <th>Sentiment_Subjectivity</th>\n",
       "    </tr>\n",
       "  </thead>\n",
       "  <tbody>\n",
       "    <tr>\n",
       "      <th>0</th>\n",
       "      <td>10 Best Foods for You</td>\n",
       "      <td>I like eat delicious food. That's I'm cooking ...</td>\n",
       "      <td>Positive</td>\n",
       "      <td>1.00</td>\n",
       "      <td>0.533333</td>\n",
       "    </tr>\n",
       "    <tr>\n",
       "      <th>1</th>\n",
       "      <td>10 Best Foods for You</td>\n",
       "      <td>This help eating healthy exercise regular basis</td>\n",
       "      <td>Positive</td>\n",
       "      <td>0.25</td>\n",
       "      <td>0.288462</td>\n",
       "    </tr>\n",
       "    <tr>\n",
       "      <th>2</th>\n",
       "      <td>10 Best Foods for You</td>\n",
       "      <td>NaN</td>\n",
       "      <td>NaN</td>\n",
       "      <td>NaN</td>\n",
       "      <td>NaN</td>\n",
       "    </tr>\n",
       "    <tr>\n",
       "      <th>3</th>\n",
       "      <td>10 Best Foods for You</td>\n",
       "      <td>Works great especially going grocery store</td>\n",
       "      <td>Positive</td>\n",
       "      <td>0.40</td>\n",
       "      <td>0.875000</td>\n",
       "    </tr>\n",
       "    <tr>\n",
       "      <th>4</th>\n",
       "      <td>10 Best Foods for You</td>\n",
       "      <td>Best idea us</td>\n",
       "      <td>Positive</td>\n",
       "      <td>1.00</td>\n",
       "      <td>0.300000</td>\n",
       "    </tr>\n",
       "  </tbody>\n",
       "</table>\n",
       "</div>"
      ],
      "text/plain": [
       "                     App                                  Translated_Review  \\\n",
       "0  10 Best Foods for You  I like eat delicious food. That's I'm cooking ...   \n",
       "1  10 Best Foods for You    This help eating healthy exercise regular basis   \n",
       "2  10 Best Foods for You                                                NaN   \n",
       "3  10 Best Foods for You         Works great especially going grocery store   \n",
       "4  10 Best Foods for You                                       Best idea us   \n",
       "\n",
       "  Sentiment  Sentiment_Polarity  Sentiment_Subjectivity  \n",
       "0  Positive                1.00                0.533333  \n",
       "1  Positive                0.25                0.288462  \n",
       "2       NaN                 NaN                     NaN  \n",
       "3  Positive                0.40                0.875000  \n",
       "4  Positive                1.00                0.300000  "
      ]
     },
     "execution_count": 10,
     "metadata": {},
     "output_type": "execute_result"
    }
   ],
   "source": [
    "google_reviews.head()"
   ]
  },
  {
   "cell_type": "code",
   "execution_count": 11,
   "id": "36201f29",
   "metadata": {},
   "outputs": [
    {
     "data": {
      "text/html": [
       "<div>\n",
       "<style scoped>\n",
       "    .dataframe tbody tr th:only-of-type {\n",
       "        vertical-align: middle;\n",
       "    }\n",
       "\n",
       "    .dataframe tbody tr th {\n",
       "        vertical-align: top;\n",
       "    }\n",
       "\n",
       "    .dataframe thead th {\n",
       "        text-align: right;\n",
       "    }\n",
       "</style>\n",
       "<table border=\"1\" class=\"dataframe\">\n",
       "  <thead>\n",
       "    <tr style=\"text-align: right;\">\n",
       "      <th></th>\n",
       "      <th>Rating</th>\n",
       "    </tr>\n",
       "  </thead>\n",
       "  <tbody>\n",
       "    <tr>\n",
       "      <th>count</th>\n",
       "      <td>9367.000000</td>\n",
       "    </tr>\n",
       "    <tr>\n",
       "      <th>mean</th>\n",
       "      <td>4.193338</td>\n",
       "    </tr>\n",
       "    <tr>\n",
       "      <th>std</th>\n",
       "      <td>0.537431</td>\n",
       "    </tr>\n",
       "    <tr>\n",
       "      <th>min</th>\n",
       "      <td>1.000000</td>\n",
       "    </tr>\n",
       "    <tr>\n",
       "      <th>25%</th>\n",
       "      <td>4.000000</td>\n",
       "    </tr>\n",
       "    <tr>\n",
       "      <th>50%</th>\n",
       "      <td>4.300000</td>\n",
       "    </tr>\n",
       "    <tr>\n",
       "      <th>75%</th>\n",
       "      <td>4.500000</td>\n",
       "    </tr>\n",
       "    <tr>\n",
       "      <th>max</th>\n",
       "      <td>19.000000</td>\n",
       "    </tr>\n",
       "  </tbody>\n",
       "</table>\n",
       "</div>"
      ],
      "text/plain": [
       "            Rating\n",
       "count  9367.000000\n",
       "mean      4.193338\n",
       "std       0.537431\n",
       "min       1.000000\n",
       "25%       4.000000\n",
       "50%       4.300000\n",
       "75%       4.500000\n",
       "max      19.000000"
      ]
     },
     "execution_count": 11,
     "metadata": {},
     "output_type": "execute_result"
    }
   ],
   "source": [
    "google.describe()"
   ]
  },
  {
   "cell_type": "code",
   "execution_count": 12,
   "id": "fbad9d5b",
   "metadata": {},
   "outputs": [
    {
     "data": {
      "text/html": [
       "<div>\n",
       "<style scoped>\n",
       "    .dataframe tbody tr th:only-of-type {\n",
       "        vertical-align: middle;\n",
       "    }\n",
       "\n",
       "    .dataframe tbody tr th {\n",
       "        vertical-align: top;\n",
       "    }\n",
       "\n",
       "    .dataframe thead th {\n",
       "        text-align: right;\n",
       "    }\n",
       "</style>\n",
       "<table border=\"1\" class=\"dataframe\">\n",
       "  <thead>\n",
       "    <tr style=\"text-align: right;\">\n",
       "      <th></th>\n",
       "      <th>Sentiment_Polarity</th>\n",
       "      <th>Sentiment_Subjectivity</th>\n",
       "    </tr>\n",
       "  </thead>\n",
       "  <tbody>\n",
       "    <tr>\n",
       "      <th>count</th>\n",
       "      <td>37432.000000</td>\n",
       "      <td>37432.000000</td>\n",
       "    </tr>\n",
       "    <tr>\n",
       "      <th>mean</th>\n",
       "      <td>0.182146</td>\n",
       "      <td>0.492704</td>\n",
       "    </tr>\n",
       "    <tr>\n",
       "      <th>std</th>\n",
       "      <td>0.351301</td>\n",
       "      <td>0.259949</td>\n",
       "    </tr>\n",
       "    <tr>\n",
       "      <th>min</th>\n",
       "      <td>-1.000000</td>\n",
       "      <td>0.000000</td>\n",
       "    </tr>\n",
       "    <tr>\n",
       "      <th>25%</th>\n",
       "      <td>0.000000</td>\n",
       "      <td>0.357143</td>\n",
       "    </tr>\n",
       "    <tr>\n",
       "      <th>50%</th>\n",
       "      <td>0.150000</td>\n",
       "      <td>0.514286</td>\n",
       "    </tr>\n",
       "    <tr>\n",
       "      <th>75%</th>\n",
       "      <td>0.400000</td>\n",
       "      <td>0.650000</td>\n",
       "    </tr>\n",
       "    <tr>\n",
       "      <th>max</th>\n",
       "      <td>1.000000</td>\n",
       "      <td>1.000000</td>\n",
       "    </tr>\n",
       "  </tbody>\n",
       "</table>\n",
       "</div>"
      ],
      "text/plain": [
       "       Sentiment_Polarity  Sentiment_Subjectivity\n",
       "count        37432.000000            37432.000000\n",
       "mean             0.182146                0.492704\n",
       "std              0.351301                0.259949\n",
       "min             -1.000000                0.000000\n",
       "25%              0.000000                0.357143\n",
       "50%              0.150000                0.514286\n",
       "75%              0.400000                0.650000\n",
       "max              1.000000                1.000000"
      ]
     },
     "execution_count": 12,
     "metadata": {},
     "output_type": "execute_result"
    }
   ],
   "source": [
    "google_reviews.describe()"
   ]
  },
  {
   "cell_type": "code",
   "execution_count": 13,
   "id": "320d51b4",
   "metadata": {},
   "outputs": [
    {
     "data": {
      "text/html": [
       "<div>\n",
       "<style scoped>\n",
       "    .dataframe tbody tr th:only-of-type {\n",
       "        vertical-align: middle;\n",
       "    }\n",
       "\n",
       "    .dataframe tbody tr th {\n",
       "        vertical-align: top;\n",
       "    }\n",
       "\n",
       "    .dataframe thead th {\n",
       "        text-align: right;\n",
       "    }\n",
       "</style>\n",
       "<table border=\"1\" class=\"dataframe\">\n",
       "  <thead>\n",
       "    <tr style=\"text-align: right;\">\n",
       "      <th></th>\n",
       "      <th>App</th>\n",
       "      <th>Category</th>\n",
       "      <th>Reviews</th>\n",
       "      <th>Size</th>\n",
       "      <th>Installs</th>\n",
       "      <th>Type</th>\n",
       "      <th>Price</th>\n",
       "      <th>Content Rating</th>\n",
       "      <th>Genres</th>\n",
       "      <th>Last Updated</th>\n",
       "      <th>Current Ver</th>\n",
       "      <th>Android Ver</th>\n",
       "    </tr>\n",
       "  </thead>\n",
       "  <tbody>\n",
       "    <tr>\n",
       "      <th>count</th>\n",
       "      <td>10841</td>\n",
       "      <td>10841</td>\n",
       "      <td>10841</td>\n",
       "      <td>10841</td>\n",
       "      <td>10841</td>\n",
       "      <td>10840</td>\n",
       "      <td>10841</td>\n",
       "      <td>10840</td>\n",
       "      <td>10841</td>\n",
       "      <td>10841</td>\n",
       "      <td>10833</td>\n",
       "      <td>10838</td>\n",
       "    </tr>\n",
       "    <tr>\n",
       "      <th>unique</th>\n",
       "      <td>9660</td>\n",
       "      <td>34</td>\n",
       "      <td>6002</td>\n",
       "      <td>462</td>\n",
       "      <td>22</td>\n",
       "      <td>3</td>\n",
       "      <td>93</td>\n",
       "      <td>6</td>\n",
       "      <td>120</td>\n",
       "      <td>1378</td>\n",
       "      <td>2832</td>\n",
       "      <td>33</td>\n",
       "    </tr>\n",
       "    <tr>\n",
       "      <th>top</th>\n",
       "      <td>ROBLOX</td>\n",
       "      <td>FAMILY</td>\n",
       "      <td>0</td>\n",
       "      <td>Varies with device</td>\n",
       "      <td>1,000,000+</td>\n",
       "      <td>Free</td>\n",
       "      <td>0</td>\n",
       "      <td>Everyone</td>\n",
       "      <td>Tools</td>\n",
       "      <td>August 3, 2018</td>\n",
       "      <td>Varies with device</td>\n",
       "      <td>4.1 and up</td>\n",
       "    </tr>\n",
       "    <tr>\n",
       "      <th>freq</th>\n",
       "      <td>9</td>\n",
       "      <td>1972</td>\n",
       "      <td>596</td>\n",
       "      <td>1695</td>\n",
       "      <td>1579</td>\n",
       "      <td>10039</td>\n",
       "      <td>10040</td>\n",
       "      <td>8714</td>\n",
       "      <td>842</td>\n",
       "      <td>326</td>\n",
       "      <td>1459</td>\n",
       "      <td>2451</td>\n",
       "    </tr>\n",
       "  </tbody>\n",
       "</table>\n",
       "</div>"
      ],
      "text/plain": [
       "           App Category Reviews                Size    Installs   Type  Price  \\\n",
       "count    10841    10841   10841               10841       10841  10840  10841   \n",
       "unique    9660       34    6002                 462          22      3     93   \n",
       "top     ROBLOX   FAMILY       0  Varies with device  1,000,000+   Free      0   \n",
       "freq         9     1972     596                1695        1579  10039  10040   \n",
       "\n",
       "       Content Rating Genres    Last Updated         Current Ver Android Ver  \n",
       "count           10840  10841           10841               10833       10838  \n",
       "unique              6    120            1378                2832          33  \n",
       "top          Everyone  Tools  August 3, 2018  Varies with device  4.1 and up  \n",
       "freq             8714    842             326                1459        2451  "
      ]
     },
     "execution_count": 13,
     "metadata": {},
     "output_type": "execute_result"
    }
   ],
   "source": [
    "categorical = google.dtypes[google.dtypes == 'object'].index\n",
    "\n",
    "google[categorical].describe()"
   ]
  },
  {
   "cell_type": "markdown",
   "id": "8da14262",
   "metadata": {},
   "source": [
    "## Data Cleaning"
   ]
  },
  {
   "cell_type": "markdown",
   "id": "52d23709",
   "metadata": {},
   "source": [
    "### Google DataFrame"
   ]
  },
  {
   "cell_type": "code",
   "execution_count": 14,
   "id": "e0001d56",
   "metadata": {},
   "outputs": [
    {
     "data": {
      "text/plain": [
       "App                  0\n",
       "Category             0\n",
       "Rating            1474\n",
       "Reviews              0\n",
       "Size                 0\n",
       "Installs             0\n",
       "Type                 1\n",
       "Price                0\n",
       "Content Rating       1\n",
       "Genres               0\n",
       "Last Updated         0\n",
       "Current Ver          8\n",
       "Android Ver          3\n",
       "dtype: int64"
      ]
     },
     "execution_count": 14,
     "metadata": {},
     "output_type": "execute_result"
    }
   ],
   "source": [
    "#Checking Missing values\n",
    "google.isnull().sum()"
   ]
  },
  {
   "cell_type": "code",
   "execution_count": 15,
   "id": "b5f068b6",
   "metadata": {},
   "outputs": [
    {
     "data": {
      "text/plain": [
       "count      10841\n",
       "unique      9660\n",
       "top       ROBLOX\n",
       "freq           9\n",
       "Name: App, dtype: object"
      ]
     },
     "execution_count": 15,
     "metadata": {},
     "output_type": "execute_result"
    }
   ],
   "source": [
    "#It can clearly be seen that there are some duplicated values in\n",
    "#the dataframe that needs to be removed!\n",
    "google[\"App\"].describe()"
   ]
  },
  {
   "cell_type": "code",
   "execution_count": 16,
   "id": "59cf2dc5",
   "metadata": {},
   "outputs": [],
   "source": [
    "google.drop_duplicates(\"App\",inplace = True)"
   ]
  },
  {
   "cell_type": "code",
   "execution_count": 17,
   "id": "39413dcd",
   "metadata": {
    "scrolled": true
   },
   "outputs": [
    {
     "data": {
      "text/plain": [
       "count                                               9660\n",
       "unique                                              9660\n",
       "top       Photo Editor & Candy Camera & Grid & ScrapBook\n",
       "freq                                                   1\n",
       "Name: App, dtype: object"
      ]
     },
     "execution_count": 17,
     "metadata": {},
     "output_type": "execute_result"
    }
   ],
   "source": [
    "google[\"App\"].describe()"
   ]
  },
  {
   "cell_type": "code",
   "execution_count": 18,
   "id": "ffd1cc3f",
   "metadata": {
    "scrolled": true
   },
   "outputs": [
    {
     "data": {
      "text/plain": [
       "App\n",
       "\"i DT\" Fútbol. Todos Somos Técnicos.                1\n",
       "+Download 4 Instagram Twitter                       1\n",
       "- Free Comics - Comic Apps                          1\n",
       ".R                                                  1\n",
       "/u/app                                              1\n",
       "                                                   ..\n",
       "뽕티비 - 개인방송, 인터넷방송, BJ방송                             1\n",
       "💎 I'm rich                                          1\n",
       "💘 WhatsLov: Smileys of love, stickers and GIF       1\n",
       "📏 Smart Ruler ↔️ cm/inch measuring for homework!    1\n",
       "🔥 Football Wallpapers 4K | Full HD Backgrounds 😍    1\n",
       "Name: App, Length: 9660, dtype: int64"
      ]
     },
     "execution_count": 18,
     "metadata": {},
     "output_type": "execute_result"
    }
   ],
   "source": [
    "google.groupby(\"App\")[\"App\"].count()"
   ]
  },
  {
   "cell_type": "code",
   "execution_count": 19,
   "id": "ad701e12",
   "metadata": {
    "scrolled": true
   },
   "outputs": [
    {
     "data": {
      "text/plain": [
       "Category\n",
       "1.9                       1\n",
       "ART_AND_DESIGN           64\n",
       "AUTO_AND_VEHICLES        85\n",
       "BEAUTY                   53\n",
       "BOOKS_AND_REFERENCE     222\n",
       "BUSINESS                420\n",
       "COMICS                   56\n",
       "COMMUNICATION           315\n",
       "DATING                  171\n",
       "EDUCATION               119\n",
       "ENTERTAINMENT           102\n",
       "EVENTS                   64\n",
       "FAMILY                 1832\n",
       "FINANCE                 345\n",
       "FOOD_AND_DRINK          112\n",
       "GAME                    959\n",
       "HEALTH_AND_FITNESS      288\n",
       "HOUSE_AND_HOME           74\n",
       "LIBRARIES_AND_DEMO       84\n",
       "LIFESTYLE               369\n",
       "MAPS_AND_NAVIGATION     131\n",
       "MEDICAL                 395\n",
       "NEWS_AND_MAGAZINES      254\n",
       "PARENTING                60\n",
       "PERSONALIZATION         376\n",
       "PHOTOGRAPHY             281\n",
       "PRODUCTIVITY            374\n",
       "SHOPPING                202\n",
       "SOCIAL                  239\n",
       "SPORTS                  325\n",
       "TOOLS                   827\n",
       "TRAVEL_AND_LOCAL        219\n",
       "VIDEO_PLAYERS           163\n",
       "WEATHER                  79\n",
       "Name: Category, dtype: int64"
      ]
     },
     "execution_count": 19,
     "metadata": {},
     "output_type": "execute_result"
    }
   ],
   "source": [
    "google.groupby(\"Category\")[\"Category\"].count()"
   ]
  },
  {
   "cell_type": "code",
   "execution_count": 20,
   "id": "8fa74275",
   "metadata": {},
   "outputs": [],
   "source": [
    "missing_cat = np.where(google[\"Category\"] == '1.9', 'Not Defined', google[\"Category\"])\n",
    "google[\"Category\"] = missing_cat"
   ]
  },
  {
   "cell_type": "code",
   "execution_count": 21,
   "id": "c6126c6b",
   "metadata": {},
   "outputs": [
    {
     "data": {
      "text/plain": [
       "Category\n",
       "ART_AND_DESIGN           64\n",
       "AUTO_AND_VEHICLES        85\n",
       "BEAUTY                   53\n",
       "BOOKS_AND_REFERENCE     222\n",
       "BUSINESS                420\n",
       "COMICS                   56\n",
       "COMMUNICATION           315\n",
       "DATING                  171\n",
       "EDUCATION               119\n",
       "ENTERTAINMENT           102\n",
       "EVENTS                   64\n",
       "FAMILY                 1832\n",
       "FINANCE                 345\n",
       "FOOD_AND_DRINK          112\n",
       "GAME                    959\n",
       "HEALTH_AND_FITNESS      288\n",
       "HOUSE_AND_HOME           74\n",
       "LIBRARIES_AND_DEMO       84\n",
       "LIFESTYLE               369\n",
       "MAPS_AND_NAVIGATION     131\n",
       "MEDICAL                 395\n",
       "NEWS_AND_MAGAZINES      254\n",
       "Not Defined               1\n",
       "PARENTING                60\n",
       "PERSONALIZATION         376\n",
       "PHOTOGRAPHY             281\n",
       "PRODUCTIVITY            374\n",
       "SHOPPING                202\n",
       "SOCIAL                  239\n",
       "SPORTS                  325\n",
       "TOOLS                   827\n",
       "TRAVEL_AND_LOCAL        219\n",
       "VIDEO_PLAYERS           163\n",
       "WEATHER                  79\n",
       "Name: Category, dtype: int64"
      ]
     },
     "execution_count": 21,
     "metadata": {},
     "output_type": "execute_result"
    }
   ],
   "source": [
    "google.groupby(\"Category\")[\"Category\"].count()"
   ]
  },
  {
   "cell_type": "code",
   "execution_count": 50,
   "id": "5f457fc4",
   "metadata": {
    "scrolled": true
   },
   "outputs": [
    {
     "data": {
      "text/plain": [
       "(array([  23,  113,  123, ..., 9650, 9654, 9657], dtype=int64),)"
      ]
     },
     "execution_count": 50,
     "metadata": {},
     "output_type": "execute_result"
    }
   ],
   "source": [
    "missing = np.where(google[\"Rating\"].isnull() == True)\n",
    "missing"
   ]
  },
  {
   "cell_type": "code",
   "execution_count": 51,
   "id": "c68e66fc",
   "metadata": {
    "scrolled": true
   },
   "outputs": [
    {
     "data": {
      "image/png": "[encoded data removed]",
      "text/plain": [
       "<Figure size 640x480 with 1 Axes>"
      ]
     },
     "metadata": {},
     "output_type": "display_data"
    }
   ],
   "source": [
    "google.hist(column = 'Rating',bins = 100)\n",
    "\n",
    "plt.xlim(0,5)\n",
    "plt.show()"
   ]
  },
  {
   "cell_type": "code",
   "execution_count": 22,
   "id": "9e65cb1a",
   "metadata": {
    "scrolled": true
   },
   "outputs": [],
   "source": [
    "#Assigning mean of the rating instead of NULL values\n",
    "rating_mean = np.where(google[\"Rating\"].isnull(), np.mean(google[\"Rating\"]), google[\"Rating\"])\n",
    "\n",
    "google[\"Rating\"] = rating_mean"
   ]
  },
  {
   "cell_type": "code",
   "execution_count": 23,
   "id": "a92d16af",
   "metadata": {},
   "outputs": [
    {
     "data": {
      "text/plain": [
       "0"
      ]
     },
     "execution_count": 23,
     "metadata": {},
     "output_type": "execute_result"
    }
   ],
   "source": [
    "#All of the missing values are overwritten\n",
    "google[\"Rating\"].isnull().sum()"
   ]
  },
  {
   "cell_type": "code",
   "execution_count": 25,
   "id": "744084e5",
   "metadata": {},
   "outputs": [
    {
     "data": {
      "text/plain": [
       "<AxesSubplot:>"
      ]
     },
     "execution_count": 25,
     "metadata": {},
     "output_type": "execute_result"
    },
    {
     "data": {
      "image/png": "[encoded data removed]",
      "text/plain": [
       "<Figure size 640x480 with 1 Axes>"
      ]
     },
     "metadata": {},
     "output_type": "display_data"
    }
   ],
   "source": [
    "#It can be seen there are some outliers in rating column!\n",
    "google[\"Rating\"].plot(kind = 'box')"
   ]
  },
  {
   "cell_type": "code",
   "execution_count": 26,
   "id": "fc10a17f",
   "metadata": {},
   "outputs": [],
   "source": [
    "#Outliers(Only ratings which are out of the bounds) in rating column are overwritten succesfully!\n",
    "rating_mean = np.where((google[\"Rating\"] > 5) | (google[\"Rating\"] < 0) , np.mean(google[\"Rating\"]), google[\"Rating\"])\n",
    "\n",
    "google[\"Rating\"] = rating_mean"
   ]
  },
  {
   "cell_type": "code",
   "execution_count": 27,
   "id": "5d8fccf5",
   "metadata": {
    "scrolled": true
   },
   "outputs": [
    {
     "data": {
      "text/plain": [
       "<AxesSubplot:>"
      ]
     },
     "execution_count": 27,
     "metadata": {},
     "output_type": "execute_result"
    },
    {
     "data": {
      "image/png": "[encoded data removed]",
      "text/plain": [
       "<Figure size 640x480 with 1 Axes>"
      ]
     },
     "metadata": {},
     "output_type": "display_data"
    }
   ],
   "source": [
    "google[\"Rating\"].plot(kind = 'box')"
   ]
  },
  {
   "cell_type": "code",
   "execution_count": 28,
   "id": "425bb2fb",
   "metadata": {},
   "outputs": [
    {
     "data": {
      "text/plain": [
       "Reviews\n",
       "0          593\n",
       "1          272\n",
       "10          62\n",
       "100         10\n",
       "1000417      1\n",
       "          ... \n",
       "997          1\n",
       "9971         2\n",
       "9975         1\n",
       "999          1\n",
       "9992         1\n",
       "Name: Reviews, Length: 5331, dtype: int64"
      ]
     },
     "execution_count": 28,
     "metadata": {},
     "output_type": "execute_result"
    }
   ],
   "source": [
    "#It can be seen that there is no inconvenient data in reviews column\n",
    "google.groupby(\"Reviews\")[\"Reviews\"].count()"
   ]
  },
  {
   "cell_type": "code",
   "execution_count": 29,
   "id": "c4986822",
   "metadata": {
    "scrolled": true
   },
   "outputs": [
    {
     "data": {
      "text/plain": [
       "Size\n",
       "1,000+                   1\n",
       "1.0M                     7\n",
       "1.1M                    32\n",
       "1.2M                    41\n",
       "1.3M                    35\n",
       "                      ... \n",
       "98M                     13\n",
       "992k                     1\n",
       "994k                     1\n",
       "99M                     30\n",
       "Varies with device    1227\n",
       "Name: Size, Length: 462, dtype: int64"
      ]
     },
     "execution_count": 29,
     "metadata": {},
     "output_type": "execute_result"
    }
   ],
   "source": [
    "google.groupby(\"Size\")[\"Size\"].count()"
   ]
  },
  {
   "cell_type": "code",
   "execution_count": 30,
   "id": "1fa54e1a",
   "metadata": {},
   "outputs": [],
   "source": [
    "#1000+ is changed with the value 1000M+\n",
    "size_inc = np.where(google[\"Size\"] == '1,000+' , \"1000M+\", google[\"Size\"])\n",
    "google[\"Size\"] = size_inc"
   ]
  },
  {
   "cell_type": "code",
   "execution_count": 31,
   "id": "5fcd40d9",
   "metadata": {},
   "outputs": [
    {
     "data": {
      "text/plain": [
       "Size\n",
       "1.0M                     7\n",
       "1.1M                    32\n",
       "1.2M                    41\n",
       "1.3M                    35\n",
       "1.4M                    36\n",
       "                      ... \n",
       "98M                     13\n",
       "992k                     1\n",
       "994k                     1\n",
       "99M                     30\n",
       "Varies with device    1227\n",
       "Name: Size, Length: 462, dtype: int64"
      ]
     },
     "execution_count": 31,
     "metadata": {},
     "output_type": "execute_result"
    }
   ],
   "source": [
    "google.groupby(\"Size\")[\"Size\"].count()"
   ]
  },
  {
   "cell_type": "code",
   "execution_count": 32,
   "id": "d03294f9",
   "metadata": {
    "scrolled": true
   },
   "outputs": [
    {
     "data": {
      "text/plain": [
       "Installs\n",
       "0                    1\n",
       "0+                  14\n",
       "1+                  67\n",
       "1,000+             888\n",
       "1,000,000+        1417\n",
       "1,000,000,000+      20\n",
       "10+                385\n",
       "10,000+           1031\n",
       "10,000,000+        937\n",
       "100+               710\n",
       "100,000+          1112\n",
       "100,000,000+       188\n",
       "5+                  82\n",
       "5,000+             468\n",
       "5,000,000+         607\n",
       "50+                204\n",
       "50,000+            469\n",
       "50,000,000+        202\n",
       "500+               328\n",
       "500,000+           505\n",
       "500,000,000+        24\n",
       "Free                 1\n",
       "Name: Installs, dtype: int64"
      ]
     },
     "execution_count": 32,
     "metadata": {},
     "output_type": "execute_result"
    }
   ],
   "source": [
    "google.groupby(\"Installs\")[\"Installs\"].count()"
   ]
  },
  {
   "cell_type": "code",
   "execution_count": 33,
   "id": "1af3d402",
   "metadata": {},
   "outputs": [],
   "source": [
    "installs_inc = np.where(google[\"Installs\"] == \"Free\" , \"0\" , google[\"Installs\"])\n",
    "google[\"Installs\"] = installs_inc"
   ]
  },
  {
   "cell_type": "code",
   "execution_count": 34,
   "id": "7b48b1db",
   "metadata": {},
   "outputs": [
    {
     "data": {
      "text/plain": [
       "Installs\n",
       "0                    2\n",
       "0+                  14\n",
       "1+                  67\n",
       "1,000+             888\n",
       "1,000,000+        1417\n",
       "1,000,000,000+      20\n",
       "10+                385\n",
       "10,000+           1031\n",
       "10,000,000+        937\n",
       "100+               710\n",
       "100,000+          1112\n",
       "100,000,000+       188\n",
       "5+                  82\n",
       "5,000+             468\n",
       "5,000,000+         607\n",
       "50+                204\n",
       "50,000+            469\n",
       "50,000,000+        202\n",
       "500+               328\n",
       "500,000+           505\n",
       "500,000,000+        24\n",
       "Name: Installs, dtype: int64"
      ]
     },
     "execution_count": 34,
     "metadata": {},
     "output_type": "execute_result"
    }
   ],
   "source": [
    "google.groupby(\"Installs\")[\"Installs\"].count()"
   ]
  },
  {
   "cell_type": "code",
   "execution_count": 35,
   "id": "48a500b7",
   "metadata": {
    "scrolled": true
   },
   "outputs": [
    {
     "data": {
      "text/plain": [
       "1"
      ]
     },
     "execution_count": 35,
     "metadata": {},
     "output_type": "execute_result"
    }
   ],
   "source": [
    "#Obtaining null values in type column\n",
    "google[\"Type\"].isnull().sum()"
   ]
  },
  {
   "cell_type": "code",
   "execution_count": 36,
   "id": "47f237d3",
   "metadata": {},
   "outputs": [],
   "source": [
    "type_null = np.where(google[\"Type\"].isnull() , \"Not Defined\", google[\"Type\"])\n",
    "google[\"Type\"] = type_null"
   ]
  },
  {
   "cell_type": "code",
   "execution_count": 37,
   "id": "5c8222bf",
   "metadata": {},
   "outputs": [
    {
     "data": {
      "text/plain": [
       "0"
      ]
     },
     "execution_count": 37,
     "metadata": {},
     "output_type": "execute_result"
    }
   ],
   "source": [
    "#Null values are overwritten\n",
    "google[\"Type\"].isnull().sum()"
   ]
  },
  {
   "cell_type": "code",
   "execution_count": 38,
   "id": "1d97a398",
   "metadata": {},
   "outputs": [
    {
     "data": {
      "text/plain": [
       "Type\n",
       "0                 1\n",
       "Free           8902\n",
       "Not Defined       1\n",
       "Paid            756\n",
       "Name: Type, dtype: int64"
      ]
     },
     "execution_count": 38,
     "metadata": {},
     "output_type": "execute_result"
    }
   ],
   "source": [
    "#It can be assumed that 0 corresponds to the value of Free\n",
    "google.groupby(\"Type\")[\"Type\"].count()"
   ]
  },
  {
   "cell_type": "code",
   "execution_count": 39,
   "id": "058b7407",
   "metadata": {},
   "outputs": [],
   "source": [
    "type_missing = np.where(google[\"Type\"] == '0' , \"Free\", google[\"Type\"])\n",
    "google[\"Type\"] = type_missing"
   ]
  },
  {
   "cell_type": "code",
   "execution_count": 40,
   "id": "3ae3396f",
   "metadata": {},
   "outputs": [
    {
     "data": {
      "text/plain": [
       "Type\n",
       "Free           8903\n",
       "Not Defined       1\n",
       "Paid            756\n",
       "Name: Type, dtype: int64"
      ]
     },
     "execution_count": 40,
     "metadata": {},
     "output_type": "execute_result"
    }
   ],
   "source": [
    "#0 values are overwritten\n",
    "google.groupby(\"Type\")[\"Type\"].count()"
   ]
  },
  {
   "cell_type": "code",
   "execution_count": 41,
   "id": "e0fec53b",
   "metadata": {},
   "outputs": [
    {
     "data": {
      "text/plain": [
       "Price\n",
       "$0.99        145\n",
       "$1.00          3\n",
       "$1.04          1\n",
       "$1.20          1\n",
       "$1.26          1\n",
       "            ... \n",
       "$89.99         1\n",
       "$9.00          1\n",
       "$9.99         19\n",
       "0           8903\n",
       "Everyone       1\n",
       "Name: Price, Length: 93, dtype: int64"
      ]
     },
     "execution_count": 41,
     "metadata": {},
     "output_type": "execute_result"
    }
   ],
   "source": [
    "google.groupby(\"Price\")[\"Price\"].count()"
   ]
  },
  {
   "cell_type": "code",
   "execution_count": 42,
   "id": "f6c8780a",
   "metadata": {},
   "outputs": [],
   "source": [
    "price_inc = np.where(google[\"Price\"] == 'Everyone' , \"0\", google[\"Price\"])\n",
    "google[\"Price\"] = price_inc"
   ]
  },
  {
   "cell_type": "code",
   "execution_count": 43,
   "id": "38686482",
   "metadata": {},
   "outputs": [
    {
     "data": {
      "text/plain": [
       "Price\n",
       "$0.99      145\n",
       "$1.00        3\n",
       "$1.04        1\n",
       "$1.20        1\n",
       "$1.26        1\n",
       "          ... \n",
       "$8.99        5\n",
       "$89.99       1\n",
       "$9.00        1\n",
       "$9.99       19\n",
       "0         8904\n",
       "Name: Price, Length: 92, dtype: int64"
      ]
     },
     "execution_count": 43,
     "metadata": {},
     "output_type": "execute_result"
    }
   ],
   "source": [
    "google.groupby(\"Price\")[\"Price\"].count()"
   ]
  },
  {
   "cell_type": "code",
   "execution_count": 44,
   "id": "ef42b421",
   "metadata": {},
   "outputs": [
    {
     "data": {
      "text/plain": [
       "Content Rating\n",
       "Adults only 18+       3\n",
       "Everyone           7903\n",
       "Everyone 10+        322\n",
       "Mature 17+          393\n",
       "Teen               1036\n",
       "Unrated               2\n",
       "Name: Content Rating, dtype: int64"
      ]
     },
     "execution_count": 44,
     "metadata": {},
     "output_type": "execute_result"
    }
   ],
   "source": [
    "#There is nothing that can be done with unrated values\n",
    "#in Content Rating column.\n",
    "google.groupby(\"Content Rating\")[\"Content Rating\"].count()"
   ]
  },
  {
   "cell_type": "code",
   "execution_count": 45,
   "id": "76c1d3fc",
   "metadata": {
    "scrolled": true
   },
   "outputs": [
    {
     "data": {
      "text/plain": [
       "1"
      ]
     },
     "execution_count": 45,
     "metadata": {},
     "output_type": "execute_result"
    }
   ],
   "source": [
    "google[\"Content Rating\"].isnull().sum()"
   ]
  },
  {
   "cell_type": "code",
   "execution_count": 46,
   "id": "5a730ced",
   "metadata": {},
   "outputs": [],
   "source": [
    "content_missing = np.where(google[\"Content Rating\"].isnull() , \"Not Defined\", google[\"Content Rating\"])\n",
    "google[\"Content Rating\"] = content_missing"
   ]
  },
  {
   "cell_type": "code",
   "execution_count": 47,
   "id": "df62f840",
   "metadata": {},
   "outputs": [
    {
     "data": {
      "text/plain": [
       "Genres\n",
       "Action                                   299\n",
       "Action;Action & Adventure                 12\n",
       "Adventure                                 73\n",
       "Adventure;Action & Adventure               5\n",
       "Adventure;Brain Games                      1\n",
       "                                        ... \n",
       "Video Players & Editors                  162\n",
       "Video Players & Editors;Creativity         1\n",
       "Video Players & Editors;Music & Video      2\n",
       "Weather                                   79\n",
       "Word                                      23\n",
       "Name: Genres, Length: 119, dtype: int64"
      ]
     },
     "execution_count": 47,
     "metadata": {},
     "output_type": "execute_result"
    }
   ],
   "source": [
    "google.groupby(\"Genres\")[\"Genres\"].count()"
   ]
  },
  {
   "cell_type": "code",
   "execution_count": 48,
   "id": "651e7dec",
   "metadata": {},
   "outputs": [
    {
     "data": {
      "text/plain": [
       "0"
      ]
     },
     "execution_count": 48,
     "metadata": {},
     "output_type": "execute_result"
    }
   ],
   "source": [
    "google[\"Genres\"].isnull().sum()"
   ]
  },
  {
   "cell_type": "code",
   "execution_count": 49,
   "id": "03fe3065",
   "metadata": {
    "scrolled": true
   },
   "outputs": [
    {
     "data": {
      "text/plain": [
       "Last Updated\n",
       "1.0.19               1\n",
       "April 1, 2016        3\n",
       "April 1, 2017        4\n",
       "April 1, 2018        5\n",
       "April 10, 2013       1\n",
       "                    ..\n",
       "September 8, 2016    2\n",
       "September 8, 2017    5\n",
       "September 9, 2015    1\n",
       "September 9, 2016    2\n",
       "September 9, 2017    1\n",
       "Name: Last Updated, Length: 1378, dtype: int64"
      ]
     },
     "execution_count": 49,
     "metadata": {},
     "output_type": "execute_result"
    }
   ],
   "source": [
    "google.groupby(\"Last Updated\")[\"Last Updated\"].count()"
   ]
  },
  {
   "cell_type": "code",
   "execution_count": 50,
   "id": "aff20bf5",
   "metadata": {},
   "outputs": [],
   "source": [
    "upd_inc = np.where(google[\"Last Updated\"] == '1.0.19' , \"Not Defined\", google[\"Last Updated\"])\n",
    "google[\"Last Updated\"] = upd_inc"
   ]
  },
  {
   "cell_type": "code",
   "execution_count": 51,
   "id": "3996ee7b",
   "metadata": {},
   "outputs": [
    {
     "data": {
      "text/plain": [
       "Last Updated\n",
       "April 1, 2016        3\n",
       "April 1, 2017        4\n",
       "April 1, 2018        5\n",
       "April 10, 2013       1\n",
       "April 10, 2014       1\n",
       "                    ..\n",
       "September 8, 2016    2\n",
       "September 8, 2017    5\n",
       "September 9, 2015    1\n",
       "September 9, 2016    2\n",
       "September 9, 2017    1\n",
       "Name: Last Updated, Length: 1378, dtype: int64"
      ]
     },
     "execution_count": 51,
     "metadata": {},
     "output_type": "execute_result"
    }
   ],
   "source": [
    "google.groupby(\"Last Updated\")[\"Last Updated\"].count()"
   ]
  },
  {
   "cell_type": "code",
   "execution_count": 52,
   "id": "9a4d12c2",
   "metadata": {
    "scrolled": true
   },
   "outputs": [
    {
     "data": {
      "text/plain": [
       "Current Ver\n",
       "0.0.0.2                     1\n",
       "0.0.1                      15\n",
       "0.0.10                      1\n",
       "0.0.2                       4\n",
       "0.0.3                       2\n",
       "                           ..\n",
       "v7.0.7.1.0625.1_06_0629     1\n",
       "v7.0.9.1.0526.1_06_0704     1\n",
       "v8.0.1.8.0629.1             1\n",
       "v8[1.0.10]                  1\n",
       "version 0.994               1\n",
       "Name: Current Ver, Length: 2818, dtype: int64"
      ]
     },
     "execution_count": 52,
     "metadata": {},
     "output_type": "execute_result"
    }
   ],
   "source": [
    "google.groupby(\"Current Ver\")[\"Current Ver\"].count()"
   ]
  },
  {
   "cell_type": "code",
   "execution_count": 53,
   "id": "2a5217d7",
   "metadata": {},
   "outputs": [
    {
     "data": {
      "text/plain": [
       "8"
      ]
     },
     "execution_count": 53,
     "metadata": {},
     "output_type": "execute_result"
    }
   ],
   "source": [
    "google[\"Current Ver\"].isnull().sum()"
   ]
  },
  {
   "cell_type": "code",
   "execution_count": 54,
   "id": "5acfbdd6",
   "metadata": {},
   "outputs": [],
   "source": [
    "ver_missing = np.where(google[\"Current Ver\"].isnull() , \"Not Defined\", google[\"Current Ver\"])\n",
    "google[\"Current Ver\"] = ver_missing"
   ]
  },
  {
   "cell_type": "code",
   "execution_count": 55,
   "id": "6fbdd5c2",
   "metadata": {},
   "outputs": [
    {
     "data": {
      "text/plain": [
       "0"
      ]
     },
     "execution_count": 55,
     "metadata": {},
     "output_type": "execute_result"
    }
   ],
   "source": [
    "#Null values are overwritten\n",
    "google[\"Current Ver\"].isnull().sum()"
   ]
  },
  {
   "cell_type": "code",
   "execution_count": 56,
   "id": "06aec450",
   "metadata": {},
   "outputs": [
    {
     "data": {
      "text/plain": [
       "Android Ver\n",
       "1.0 and up               2\n",
       "1.5 and up              20\n",
       "1.6 and up             116\n",
       "2.0 and up              32\n",
       "2.0.1 and up             7\n",
       "2.1 and up             133\n",
       "2.2 - 7.1.1              1\n",
       "2.2 and up             239\n",
       "2.3 and up             616\n",
       "2.3.3 and up           273\n",
       "3.0 and up             231\n",
       "3.1 and up              10\n",
       "3.2 and up              36\n",
       "4.0 and up            1285\n",
       "4.0.3 - 7.1.1            2\n",
       "4.0.3 and up          1395\n",
       "4.1 - 7.1.1              1\n",
       "4.1 and up            2202\n",
       "4.2 and up             372\n",
       "4.3 and up             221\n",
       "4.4 and up             818\n",
       "4.4W and up             11\n",
       "5.0 - 6.0                1\n",
       "5.0 - 7.1.1              1\n",
       "5.0 - 8.0                2\n",
       "5.0 and up             512\n",
       "5.1 and up              22\n",
       "6.0 and up              54\n",
       "7.0 - 7.1.1              1\n",
       "7.0 and up              42\n",
       "7.1 and up               3\n",
       "8.0 and up               6\n",
       "Varies with device     990\n",
       "Name: Android Ver, dtype: int64"
      ]
     },
     "execution_count": 56,
     "metadata": {},
     "output_type": "execute_result"
    }
   ],
   "source": [
    "google.groupby(\"Android Ver\")[\"Android Ver\"].count()"
   ]
  },
  {
   "cell_type": "code",
   "execution_count": 57,
   "id": "c509d0ff",
   "metadata": {},
   "outputs": [
    {
     "data": {
      "text/plain": [
       "3"
      ]
     },
     "execution_count": 57,
     "metadata": {},
     "output_type": "execute_result"
    }
   ],
   "source": [
    "google[\"Android Ver\"].isnull().sum()"
   ]
  },
  {
   "cell_type": "code",
   "execution_count": 58,
   "id": "6b781051",
   "metadata": {},
   "outputs": [],
   "source": [
    "and_missing = np.where(google[\"Android Ver\"].isnull() , \"Not Defined\", google[\"Android Ver\"])\n",
    "google[\"Android Ver\"] = and_missing"
   ]
  },
  {
   "cell_type": "code",
   "execution_count": 59,
   "id": "6897b02c",
   "metadata": {},
   "outputs": [
    {
     "data": {
      "text/plain": [
       "0"
      ]
     },
     "execution_count": 59,
     "metadata": {},
     "output_type": "execute_result"
    }
   ],
   "source": [
    "#Null values are overwritten\n",
    "google[\"Android Ver\"].isnull().sum()"
   ]
  },
  {
   "cell_type": "code",
   "execution_count": 60,
   "id": "d73001ed",
   "metadata": {},
   "outputs": [
    {
     "data": {
      "text/plain": [
       "App               0\n",
       "Category          0\n",
       "Rating            0\n",
       "Reviews           0\n",
       "Size              0\n",
       "Installs          0\n",
       "Type              0\n",
       "Price             0\n",
       "Content Rating    0\n",
       "Genres            0\n",
       "Last Updated      0\n",
       "Current Ver       0\n",
       "Android Ver       0\n",
       "dtype: int64"
      ]
     },
     "execution_count": 60,
     "metadata": {},
     "output_type": "execute_result"
    }
   ],
   "source": [
    "#All null values are overwritten\n",
    "google.isnull().sum()"
   ]
  },
  {
   "cell_type": "code",
   "execution_count": 61,
   "id": "636279a9",
   "metadata": {},
   "outputs": [
    {
     "name": "stdout",
     "output_type": "stream",
     "text": [
      "<class 'pandas.core.frame.DataFrame'>\n",
      "Int64Index: 9660 entries, 0 to 10840\n",
      "Data columns (total 13 columns):\n",
      " #   Column          Non-Null Count  Dtype  \n",
      "---  ------          --------------  -----  \n",
      " 0   App             9660 non-null   object \n",
      " 1   Category        9660 non-null   object \n",
      " 2   Rating          9660 non-null   float64\n",
      " 3   Reviews         9660 non-null   object \n",
      " 4   Size            9660 non-null   object \n",
      " 5   Installs        9660 non-null   object \n",
      " 6   Type            9660 non-null   object \n",
      " 7   Price           9660 non-null   object \n",
      " 8   Content Rating  9660 non-null   object \n",
      " 9   Genres          9660 non-null   object \n",
      " 10  Last Updated    9660 non-null   object \n",
      " 11  Current Ver     9660 non-null   object \n",
      " 12  Android Ver     9660 non-null   object \n",
      "dtypes: float64(1), object(12)\n",
      "memory usage: 1.0+ MB\n"
     ]
    }
   ],
   "source": [
    "google.info()"
   ]
  },
  {
   "cell_type": "markdown",
   "id": "acd47284",
   "metadata": {},
   "source": [
    "### Google Reviews DataFrame"
   ]
  },
  {
   "cell_type": "code",
   "execution_count": 62,
   "id": "517f53e3",
   "metadata": {},
   "outputs": [
    {
     "data": {
      "text/plain": [
       "App                           0\n",
       "Translated_Review         26868\n",
       "Sentiment                 26863\n",
       "Sentiment_Polarity        26863\n",
       "Sentiment_Subjectivity    26863\n",
       "dtype: int64"
      ]
     },
     "execution_count": 62,
     "metadata": {},
     "output_type": "execute_result"
    }
   ],
   "source": [
    "google_reviews.isnull().sum()"
   ]
  },
  {
   "cell_type": "code",
   "execution_count": 63,
   "id": "88a71c6a",
   "metadata": {
    "scrolled": true
   },
   "outputs": [
    {
     "data": {
      "text/plain": [
       "App\n",
       "10 Best Foods for You                             200\n",
       "104 找工作 - 找工作 找打工 找兼職 履歷健檢 履歷診療室                   40\n",
       "11st                                               40\n",
       "1800 Contacts - Lens Store                         80\n",
       "1LINE – One Line with One Touch                    40\n",
       "                                                 ... \n",
       "Hotspot Shield Free VPN Proxy & Wi-Fi Security     40\n",
       "Hotstar                                            40\n",
       "Hotwire Hotel & Car Rental App                     40\n",
       "Housing-Real Estate & Property                     40\n",
       "Houzz Interior Design Ideas                        59\n",
       "Name: App, Length: 1074, dtype: int64"
      ]
     },
     "execution_count": 63,
     "metadata": {},
     "output_type": "execute_result"
    }
   ],
   "source": [
    "google_reviews.groupby(\"App\")[\"App\"].count()"
   ]
  },
  {
   "cell_type": "code",
   "execution_count": 64,
   "id": "570b80cb",
   "metadata": {},
   "outputs": [
    {
     "data": {
      "text/plain": [
       "Translated_Review\n",
       "!!!Dont waste time! Failed Samsung flagship phone galaxy s8, Installed ,shows rotating circle internet download, keeps rotates forever proper progress indication; finally shows failed download. Stupid game developers. Go NFS working good.    1\n",
       "\"...Future Follow updated follow\"...                                                                                                                                                                                                              1\n",
       "\"An error occurred while loading the search results. Please try again.\" And so it's already 2 days. The reinstallation did not help                                                                                                               1\n",
       "\"Cisco Spark stopped working\" error group work. We 4 groups last days stopped working. Only seems issue Android devices Apple.                                                                                                                    1\n",
       "\"Classic\" allows untimed play; game holds position interrupted put awhile. \"Survival\" speeds requires quick decision making.                                                                                                                      3\n",
       "                                                                                                                                                                                                                                                 ..\n",
       "☆ It sooooo fun. I like fighting part fight players even know about! ☆                                                                                                                                                                            1\n",
       "☆☆☆☆♡To good guy made game instructions                                                                                                                                                                                                           1\n",
       "♡ Amazon                                                                                                                                                                                                                                          1\n",
       "❤❤ sometimes hands typing is not convenient to use, except this update on a version 10.19 a nice keyboard hands-on                                                                                                                                1\n",
       "搵楼租楼 A lot of time, a lot of time management, easy to take care of                                                                                                                                                                                1\n",
       "Name: Translated_Review, Length: 27994, dtype: int64"
      ]
     },
     "execution_count": 64,
     "metadata": {},
     "output_type": "execute_result"
    }
   ],
   "source": [
    "google_reviews.groupby(\"Translated_Review\")[\"Translated_Review\"].count()"
   ]
  },
  {
   "cell_type": "code",
   "execution_count": 65,
   "id": "1536fe29",
   "metadata": {},
   "outputs": [
    {
     "data": {
      "text/plain": [
       "Sentiment\n",
       "Negative     8271\n",
       "Neutral      5163\n",
       "Positive    23998\n",
       "Name: Sentiment, dtype: int64"
      ]
     },
     "execution_count": 65,
     "metadata": {},
     "output_type": "execute_result"
    }
   ],
   "source": [
    "google_reviews.groupby(\"Sentiment\")[\"Sentiment\"].count()"
   ]
  },
  {
   "cell_type": "code",
   "execution_count": 66,
   "id": "4260d6a7",
   "metadata": {
    "scrolled": true
   },
   "outputs": [
    {
     "data": {
      "text/plain": [
       "Sentiment_Polarity\n",
       "-1.000000    234\n",
       "-0.988281      2\n",
       "-0.976562      1\n",
       "-0.955000      1\n",
       "-0.937500      5\n",
       "            ... \n",
       " 0.975000      1\n",
       " 0.976562     24\n",
       " 0.988281      2\n",
       " 0.992188      2\n",
       " 1.000000    959\n",
       "Name: Sentiment_Polarity, Length: 5410, dtype: int64"
      ]
     },
     "execution_count": 66,
     "metadata": {},
     "output_type": "execute_result"
    }
   ],
   "source": [
    "google_reviews.groupby(\"Sentiment_Polarity\")[\"Sentiment_Polarity\"].count()"
   ]
  },
  {
   "cell_type": "code",
   "execution_count": 67,
   "id": "28296267",
   "metadata": {
    "scrolled": true
   },
   "outputs": [
    {
     "data": {
      "text/plain": [
       "Sentiment_Subjectivity\n",
       "0.000000    4416\n",
       "0.022222       1\n",
       "0.025000       5\n",
       "0.033333       6\n",
       "0.041667       2\n",
       "            ... \n",
       "0.966667       9\n",
       "0.975000       9\n",
       "0.975926       1\n",
       "0.987500       1\n",
       "1.000000    1749\n",
       "Name: Sentiment_Subjectivity, Length: 4474, dtype: int64"
      ]
     },
     "execution_count": 67,
     "metadata": {},
     "output_type": "execute_result"
    }
   ],
   "source": [
    "google_reviews.groupby(\"Sentiment_Subjectivity\")[\"Sentiment_Subjectivity\"].count()"
   ]
  },
  {
   "cell_type": "code",
   "execution_count": 68,
   "id": "69882404",
   "metadata": {},
   "outputs": [],
   "source": [
    "#Dropping duplicates\n",
    "google_reviews.drop_duplicates(inplace = True)"
   ]
  },
  {
   "cell_type": "code",
   "execution_count": 69,
   "id": "256a4cb7",
   "metadata": {
    "scrolled": true
   },
   "outputs": [],
   "source": [
    "google_reviews.fillna(\"Not Defined\", inplace = True)"
   ]
  },
  {
   "cell_type": "code",
   "execution_count": 70,
   "id": "ba7f8c54",
   "metadata": {},
   "outputs": [
    {
     "data": {
      "text/plain": [
       "App                       0\n",
       "Translated_Review         0\n",
       "Sentiment                 0\n",
       "Sentiment_Polarity        0\n",
       "Sentiment_Subjectivity    0\n",
       "dtype: int64"
      ]
     },
     "execution_count": 70,
     "metadata": {},
     "output_type": "execute_result"
    }
   ],
   "source": [
    "google_reviews.isnull().sum()"
   ]
  },
  {
   "cell_type": "code",
   "execution_count": 71,
   "id": "8a895eef",
   "metadata": {},
   "outputs": [],
   "source": [
    "#END OF DATA CLEANING!"
   ]
  },
  {
   "cell_type": "code",
   "execution_count": 72,
   "id": "45d6a2d5",
   "metadata": {},
   "outputs": [
    {
     "data": {
      "text/html": [
       "<div>\n",
       "<style scoped>\n",
       "    .dataframe tbody tr th:only-of-type {\n",
       "        vertical-align: middle;\n",
       "    }\n",
       "\n",
       "    .dataframe tbody tr th {\n",
       "        vertical-align: top;\n",
       "    }\n",
       "\n",
       "    .dataframe thead th {\n",
       "        text-align: right;\n",
       "    }\n",
       "</style>\n",
       "<table border=\"1\" class=\"dataframe\">\n",
       "  <thead>\n",
       "    <tr style=\"text-align: right;\">\n",
       "      <th></th>\n",
       "      <th>App</th>\n",
       "      <th>Category</th>\n",
       "      <th>Rating</th>\n",
       "      <th>Reviews</th>\n",
       "      <th>Size</th>\n",
       "      <th>Installs</th>\n",
       "      <th>Type</th>\n",
       "      <th>Price</th>\n",
       "      <th>Content Rating</th>\n",
       "      <th>Genres</th>\n",
       "      <th>Last Updated</th>\n",
       "      <th>Current Ver</th>\n",
       "      <th>Android Ver</th>\n",
       "    </tr>\n",
       "  </thead>\n",
       "  <tbody>\n",
       "    <tr>\n",
       "      <th>0</th>\n",
       "      <td>Photo Editor &amp; Candy Camera &amp; Grid &amp; ScrapBook</td>\n",
       "      <td>ART_AND_DESIGN</td>\n",
       "      <td>4.1</td>\n",
       "      <td>159</td>\n",
       "      <td>19M</td>\n",
       "      <td>10,000+</td>\n",
       "      <td>Free</td>\n",
       "      <td>0</td>\n",
       "      <td>Everyone</td>\n",
       "      <td>Art &amp; Design</td>\n",
       "      <td>January 7, 2018</td>\n",
       "      <td>1.0.0</td>\n",
       "      <td>4.0.3 and up</td>\n",
       "    </tr>\n",
       "    <tr>\n",
       "      <th>1</th>\n",
       "      <td>Coloring book moana</td>\n",
       "      <td>ART_AND_DESIGN</td>\n",
       "      <td>3.9</td>\n",
       "      <td>967</td>\n",
       "      <td>14M</td>\n",
       "      <td>500,000+</td>\n",
       "      <td>Free</td>\n",
       "      <td>0</td>\n",
       "      <td>Everyone</td>\n",
       "      <td>Art &amp; Design;Pretend Play</td>\n",
       "      <td>January 15, 2018</td>\n",
       "      <td>2.0.0</td>\n",
       "      <td>4.0.3 and up</td>\n",
       "    </tr>\n",
       "    <tr>\n",
       "      <th>2</th>\n",
       "      <td>U Launcher Lite – FREE Live Cool Themes, Hide ...</td>\n",
       "      <td>ART_AND_DESIGN</td>\n",
       "      <td>4.7</td>\n",
       "      <td>87510</td>\n",
       "      <td>8.7M</td>\n",
       "      <td>5,000,000+</td>\n",
       "      <td>Free</td>\n",
       "      <td>0</td>\n",
       "      <td>Everyone</td>\n",
       "      <td>Art &amp; Design</td>\n",
       "      <td>August 1, 2018</td>\n",
       "      <td>1.2.4</td>\n",
       "      <td>4.0.3 and up</td>\n",
       "    </tr>\n",
       "    <tr>\n",
       "      <th>3</th>\n",
       "      <td>Sketch - Draw &amp; Paint</td>\n",
       "      <td>ART_AND_DESIGN</td>\n",
       "      <td>4.5</td>\n",
       "      <td>215644</td>\n",
       "      <td>25M</td>\n",
       "      <td>50,000,000+</td>\n",
       "      <td>Free</td>\n",
       "      <td>0</td>\n",
       "      <td>Teen</td>\n",
       "      <td>Art &amp; Design</td>\n",
       "      <td>June 8, 2018</td>\n",
       "      <td>Varies with device</td>\n",
       "      <td>4.2 and up</td>\n",
       "    </tr>\n",
       "    <tr>\n",
       "      <th>4</th>\n",
       "      <td>Pixel Draw - Number Art Coloring Book</td>\n",
       "      <td>ART_AND_DESIGN</td>\n",
       "      <td>4.3</td>\n",
       "      <td>967</td>\n",
       "      <td>2.8M</td>\n",
       "      <td>100,000+</td>\n",
       "      <td>Free</td>\n",
       "      <td>0</td>\n",
       "      <td>Everyone</td>\n",
       "      <td>Art &amp; Design;Creativity</td>\n",
       "      <td>June 20, 2018</td>\n",
       "      <td>1.1</td>\n",
       "      <td>4.4 and up</td>\n",
       "    </tr>\n",
       "  </tbody>\n",
       "</table>\n",
       "</div>"
      ],
      "text/plain": [
       "                                                 App        Category  Rating  \\\n",
       "0     Photo Editor & Candy Camera & Grid & ScrapBook  ART_AND_DESIGN     4.1   \n",
       "1                                Coloring book moana  ART_AND_DESIGN     3.9   \n",
       "2  U Launcher Lite – FREE Live Cool Themes, Hide ...  ART_AND_DESIGN     4.7   \n",
       "3                              Sketch - Draw & Paint  ART_AND_DESIGN     4.5   \n",
       "4              Pixel Draw - Number Art Coloring Book  ART_AND_DESIGN     4.3   \n",
       "\n",
       "  Reviews  Size     Installs  Type Price Content Rating  \\\n",
       "0     159   19M      10,000+  Free     0       Everyone   \n",
       "1     967   14M     500,000+  Free     0       Everyone   \n",
       "2   87510  8.7M   5,000,000+  Free     0       Everyone   \n",
       "3  215644   25M  50,000,000+  Free     0           Teen   \n",
       "4     967  2.8M     100,000+  Free     0       Everyone   \n",
       "\n",
       "                      Genres      Last Updated         Current Ver  \\\n",
       "0               Art & Design   January 7, 2018               1.0.0   \n",
       "1  Art & Design;Pretend Play  January 15, 2018               2.0.0   \n",
       "2               Art & Design    August 1, 2018               1.2.4   \n",
       "3               Art & Design      June 8, 2018  Varies with device   \n",
       "4    Art & Design;Creativity     June 20, 2018                 1.1   \n",
       "\n",
       "    Android Ver  \n",
       "0  4.0.3 and up  \n",
       "1  4.0.3 and up  \n",
       "2  4.0.3 and up  \n",
       "3    4.2 and up  \n",
       "4    4.4 and up  "
      ]
     },
     "execution_count": 72,
     "metadata": {},
     "output_type": "execute_result"
    }
   ],
   "source": [
    "google.head()"
   ]
  },
  {
   "cell_type": "code",
   "execution_count": 98,
   "id": "11e5beb4",
   "metadata": {},
   "outputs": [],
   "source": [
    "google_sorted = google.sort_values(\"Installs\", ascending = False).head(3)"
   ]
  },
  {
   "cell_type": "code",
   "execution_count": 99,
   "id": "aadfc89b",
   "metadata": {},
   "outputs": [
    {
     "data": {
      "text/html": [
       "<div>\n",
       "<style scoped>\n",
       "    .dataframe tbody tr th:only-of-type {\n",
       "        vertical-align: middle;\n",
       "    }\n",
       "\n",
       "    .dataframe tbody tr th {\n",
       "        vertical-align: top;\n",
       "    }\n",
       "\n",
       "    .dataframe thead th {\n",
       "        text-align: right;\n",
       "    }\n",
       "</style>\n",
       "<table border=\"1\" class=\"dataframe\">\n",
       "  <thead>\n",
       "    <tr style=\"text-align: right;\">\n",
       "      <th></th>\n",
       "      <th>App</th>\n",
       "      <th>Category</th>\n",
       "      <th>Rating</th>\n",
       "      <th>Reviews</th>\n",
       "      <th>Size</th>\n",
       "      <th>Installs</th>\n",
       "      <th>Type</th>\n",
       "      <th>Price</th>\n",
       "      <th>Content Rating</th>\n",
       "      <th>Genres</th>\n",
       "      <th>Last Updated</th>\n",
       "      <th>Current Ver</th>\n",
       "      <th>Android Ver</th>\n",
       "    </tr>\n",
       "  </thead>\n",
       "  <tbody>\n",
       "    <tr>\n",
       "      <th>378</th>\n",
       "      <td>UC Browser - Fast Download Private &amp; Secure</td>\n",
       "      <td>COMMUNICATION</td>\n",
       "      <td>4.5</td>\n",
       "      <td>17712922</td>\n",
       "      <td>40M</td>\n",
       "      <td>500,000,000+</td>\n",
       "      <td>Free</td>\n",
       "      <td>0</td>\n",
       "      <td>Teen</td>\n",
       "      <td>Communication</td>\n",
       "      <td>August 2, 2018</td>\n",
       "      <td>12.8.5.1121</td>\n",
       "      <td>4.0 and up</td>\n",
       "    </tr>\n",
       "    <tr>\n",
       "      <th>1722</th>\n",
       "      <td>My Talking Tom</td>\n",
       "      <td>GAME</td>\n",
       "      <td>4.5</td>\n",
       "      <td>14891223</td>\n",
       "      <td>Varies with device</td>\n",
       "      <td>500,000,000+</td>\n",
       "      <td>Free</td>\n",
       "      <td>0</td>\n",
       "      <td>Everyone</td>\n",
       "      <td>Casual</td>\n",
       "      <td>July 19, 2018</td>\n",
       "      <td>4.8.0.132</td>\n",
       "      <td>4.1 and up</td>\n",
       "    </tr>\n",
       "    <tr>\n",
       "      <th>7536</th>\n",
       "      <td>Security Master - Antivirus, VPN, AppLock, Boo...</td>\n",
       "      <td>TOOLS</td>\n",
       "      <td>4.7</td>\n",
       "      <td>24900999</td>\n",
       "      <td>Varies with device</td>\n",
       "      <td>500,000,000+</td>\n",
       "      <td>Free</td>\n",
       "      <td>0</td>\n",
       "      <td>Everyone</td>\n",
       "      <td>Tools</td>\n",
       "      <td>August 4, 2018</td>\n",
       "      <td>4.6.6</td>\n",
       "      <td>Varies with device</td>\n",
       "    </tr>\n",
       "  </tbody>\n",
       "</table>\n",
       "</div>"
      ],
      "text/plain": [
       "                                                    App       Category  \\\n",
       "378         UC Browser - Fast Download Private & Secure  COMMUNICATION   \n",
       "1722                                     My Talking Tom           GAME   \n",
       "7536  Security Master - Antivirus, VPN, AppLock, Boo...          TOOLS   \n",
       "\n",
       "      Rating   Reviews                Size      Installs  Type Price  \\\n",
       "378      4.5  17712922                 40M  500,000,000+  Free     0   \n",
       "1722     4.5  14891223  Varies with device  500,000,000+  Free     0   \n",
       "7536     4.7  24900999  Varies with device  500,000,000+  Free     0   \n",
       "\n",
       "     Content Rating         Genres    Last Updated  Current Ver  \\\n",
       "378            Teen  Communication  August 2, 2018  12.8.5.1121   \n",
       "1722       Everyone         Casual   July 19, 2018    4.8.0.132   \n",
       "7536       Everyone          Tools  August 4, 2018        4.6.6   \n",
       "\n",
       "             Android Ver  \n",
       "378           4.0 and up  \n",
       "1722          4.1 and up  \n",
       "7536  Varies with device  "
      ]
     },
     "execution_count": 99,
     "metadata": {},
     "output_type": "execute_result"
    }
   ],
   "source": [
    "google_sorted"
   ]
  },
  {
   "cell_type": "code",
   "execution_count": 100,
   "id": "df79d119",
   "metadata": {},
   "outputs": [],
   "source": [
    "install = np.where(google_sorted[\"Installs\"] == '500,000,000+', 500000000 , google_sorted[\"Installs\"])\n",
    "google_sorted[\"Installs\"] = install"
   ]
  },
  {
   "cell_type": "code",
   "execution_count": 101,
   "id": "42878c17",
   "metadata": {},
   "outputs": [
    {
     "data": {
      "image/png": "[encoded data removed]",
      "text/plain": [
       "<Figure size 800x500 with 1 Axes>"
      ]
     },
     "metadata": {},
     "output_type": "display_data"
    }
   ],
   "source": [
    "f , ax = plt.subplots(figsize = (8,5))\n",
    "\n",
    "sns.barplot(x = \"App\", y = \"Installs\", data = google_sorted)\n",
    "\n",
    "plt.xticks(rotation = 90)\n",
    "plt.xlabel(\"Applications\")\n",
    "plt.ylabel(\"Numbers of Installed\")\n",
    "plt.title(\"Top 3 Installed Applications In Google Play Store\")\n",
    "plt.show()"
   ]
  },
  {
   "cell_type": "code",
   "execution_count": null,
   "id": "3dba034c",
   "metadata": {},
   "outputs": [],
   "source": []
  }
 ],
 "metadata": {
  "kernelspec": {
   "display_name": "Python 3 (ipykernel)",
   "language": "python",
   "name": "python3"
  },
  "language_info": {
   "codemirror_mode": {
    "name": "ipython",
    "version": 3
   },
   "file_extension": ".py",
   "mimetype": "text/x-python",
   "name": "python",
   "nbconvert_exporter": "python",
   "pygments_lexer": "ipython3",
   "version": "3.9.13"
  }
 },
 "nbformat": 4,
 "nbformat_minor": 5
}
